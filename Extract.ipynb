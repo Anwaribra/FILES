{
 "cells": [
  {
   "cell_type": "code",
   "execution_count": 4,
   "metadata": {},
   "outputs": [],
   "source": [
    "import fitz\n",
    "def pdf_to_word(pdf_path, word_path):\n",
    "    # Open the PDF file\n",
    "    pdf_document = fitz.open(pdf_path)\n",
    "    \n",
    "    # Create a new Word document\n",
    "    doc = Document()\n",
    "\n",
    "    # Extract text from each page of the PDF\n",
    "    for page_num in range(len(pdf_document)):\n",
    "        page = pdf_document.load_page(page_num)\n",
    "        text = page.get_text()\n",
    "\n",
    "        # Add the extracted text to the Word document\n",
    "        doc.add_paragraph(text)\n",
    "\n",
    "    # Save the Word document\n",
    "    doc.save(word_path)\n",
    "\n",
    "# Specify the paths to your PDF and Word files\n",
    "pdf_path = 'A:/FILES/TBTAE VOL04.pdf'\n",
    "word_path = 'A:/FILES/TBATE.docx'\n",
    "\n",
    "# Convert PDF to Word\n",
    "pdf_to_word(pdf_path, word_path)\n"
   ]
  }
 ],
 "metadata": {
  "kernelspec": {
   "display_name": "base",
   "language": "python",
   "name": "python3"
  },
  "language_info": {
   "codemirror_mode": {
    "name": "ipython",
    "version": 3
   },
   "file_extension": ".py",
   "mimetype": "text/x-python",
   "name": "python",
   "nbconvert_exporter": "python",
   "pygments_lexer": "ipython3",
   "version": "3.11.5"
  }
 },
 "nbformat": 4,
 "nbformat_minor": 2
}
